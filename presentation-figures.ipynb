{
 "cells": [
  {
   "cell_type": "markdown",
   "metadata": {},
   "source": [
    "# Smoothing\n",
    "## Gaussian Kernel"
   ]
  },
  {
   "cell_type": "code",
   "execution_count": null,
   "metadata": {},
   "outputs": [],
   "source": [
    "import numpy as np\n",
    "import matplotlib.pyplot as plt\n",
    "from mpl_toolkits.mplot3d import Axes3D\n",
    "\n",
    "# Create a grid of coordinates\n",
    "ran = 1.3\n",
    "pts = 20\n",
    "x = np.linspace(-ran, ran, pts)\n",
    "y = np.linspace(-ran, ran, pts)\n",
    "x, y = np.meshgrid(x, y)\n",
    "\n",
    "# Define the parameters of the Gaussian filter\n",
    "mean = [0, 0]\n",
    "sigma = 0.3\n",
    "\n",
    "# Calculate the Gaussian values at each point on the grid\n",
    "z = (\n",
    "    1\n",
    "    / (2 * np.pi * sigma**2)\n",
    "    * np.exp(-((x - mean[0]) ** 2 + (y - mean[1]) ** 2) / (2*sigma**2))\n",
    ")\n",
    "\n",
    "# Create a 3D plot\n",
    "fig = plt.figure(figsize=(5,5))\n",
    "ax = fig.add_subplot(111, projection=\"3d\")\n",
    "ax.plot_surface(x, y, z, cmap=\"viridis\")\n",
    "\n",
    "# Set equal aspect ratio for the 3D plot\n",
    "# ax.set_box_aspect([1, 1, 1])\n",
    "ax.set_aspect(\"equal\")\n",
    "\n",
    "# Set labels for the axes\n",
    "ax.set_xlabel(\"X-axis\")\n",
    "ax.set_ylabel(\"Y-axis\")\n",
    "ax.set_zlabel(\"Value\")\n",
    "\n",
    "# Show the plot\n",
    "plt.tight_layout()\n",
    "plt.show()\n",
    "fig.savefig(\"figures/gaussian-kernel.png\")"
   ]
  },
  {
   "cell_type": "markdown",
   "metadata": {},
   "source": [
    "## Brain Gradients"
   ]
  },
  {
   "cell_type": "code",
   "execution_count": 8,
   "metadata": {},
   "outputs": [],
   "source": [
    "import cv2\n",
    "import numpy as np\n",
    "from PIL import Image\n",
    "\n",
    "# Load an image\n",
    "image = cv2.imread('assets/brain-noise.png', cv2.IMREAD_GRAYSCALE)\n",
    "\n",
    "# Compute the gradients using Sobel operator\n",
    "gradient_x = cv2.Sobel(image, cv2.CV_64F, 1, 0, ksize=3)\n",
    "gradient_y = cv2.Sobel(image, cv2.CV_64F, 0, 1, ksize=3)\n",
    "\n",
    "# Compute the magnitude and angle of gradients\n",
    "gradient_magnitude = np.sqrt(gradient_x**2 + gradient_y**2)\n",
    "gradient_angle = np.arctan2(gradient_y, gradient_x)\n",
    "\n",
    "# You can also convert the gradients to unsigned 8-bit integers if needed\n",
    "gradient_magnitude = cv2.convertScaleAbs(gradient_magnitude)\n",
    "\n",
    "img = Image.fromarray(gradient_magnitude)\n",
    "img.save(\"figures/brain-gradients.png\")\n"
   ]
  },
  {
   "cell_type": "code",
   "execution_count": null,
   "metadata": {},
   "outputs": [],
   "source": []
  }
 ],
 "metadata": {
  "kernelspec": {
   "display_name": "mip",
   "language": "python",
   "name": "python3"
  },
  "language_info": {
   "codemirror_mode": {
    "name": "ipython",
    "version": 3
   },
   "file_extension": ".py",
   "mimetype": "text/x-python",
   "name": "python",
   "nbconvert_exporter": "python",
   "pygments_lexer": "ipython3",
   "version": "3.10.13"
  }
 },
 "nbformat": 4,
 "nbformat_minor": 2
}
